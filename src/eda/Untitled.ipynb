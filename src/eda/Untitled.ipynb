{
 "cells": [
  {
   "cell_type": "code",
   "execution_count": 7,
   "metadata": {},
   "outputs": [
    {
     "ename": "ModuleNotFoundError",
     "evalue": "No module named 'wandb'",
     "output_type": "error",
     "traceback": [
      "\u001b[0;31m---------------------------------------------------------------------------\u001b[0m",
      "\u001b[0;31mModuleNotFoundError\u001b[0m                       Traceback (most recent call last)",
      "\u001b[0;32m<ipython-input-7-c325dd638f8e>\u001b[0m in \u001b[0;36m<module>\u001b[0;34m\u001b[0m\n\u001b[0;32m----> 1\u001b[0;31m \u001b[0;32mimport\u001b[0m \u001b[0mwandb\u001b[0m\u001b[0;34m\u001b[0m\u001b[0;34m\u001b[0m\u001b[0m\n\u001b[0m\u001b[1;32m      2\u001b[0m \u001b[0;32mimport\u001b[0m \u001b[0mpandas\u001b[0m \u001b[0;32mas\u001b[0m \u001b[0mpd\u001b[0m\u001b[0;34m\u001b[0m\u001b[0;34m\u001b[0m\u001b[0m\n\u001b[1;32m      3\u001b[0m \u001b[0;34m\u001b[0m\u001b[0m\n\u001b[1;32m      4\u001b[0m \u001b[0mrun\u001b[0m \u001b[0;34m=\u001b[0m \u001b[0mwandb\u001b[0m\u001b[0;34m.\u001b[0m\u001b[0minit\u001b[0m\u001b[0;34m(\u001b[0m\u001b[0mproject\u001b[0m\u001b[0;34m=\u001b[0m\u001b[0;34m\"nyc_airbnb\"\u001b[0m\u001b[0;34m,\u001b[0m \u001b[0mgroup\u001b[0m\u001b[0;34m=\u001b[0m\u001b[0;34m\"eda\"\u001b[0m\u001b[0;34m,\u001b[0m \u001b[0msave_code\u001b[0m\u001b[0;34m=\u001b[0m\u001b[0;32mTrue\u001b[0m\u001b[0;34m)\u001b[0m\u001b[0;34m\u001b[0m\u001b[0;34m\u001b[0m\u001b[0m\n\u001b[1;32m      5\u001b[0m \u001b[0mlocal_path\u001b[0m \u001b[0;34m=\u001b[0m \u001b[0mwandb\u001b[0m\u001b[0;34m.\u001b[0m\u001b[0muse_artifact\u001b[0m\u001b[0;34m(\u001b[0m\u001b[0;34m\"sample.csv:latest\"\u001b[0m\u001b[0;34m)\u001b[0m\u001b[0;34m.\u001b[0m\u001b[0mfile\u001b[0m\u001b[0;34m(\u001b[0m\u001b[0;34m)\u001b[0m\u001b[0;34m\u001b[0m\u001b[0;34m\u001b[0m\u001b[0m\n",
      "\u001b[0;31mModuleNotFoundError\u001b[0m: No module named 'wandb'"
     ]
    }
   ],
   "source": [
    "import wandb\n",
    "import pandas as pd\n",
    "\n",
    "run = wandb.init(project=\"nyc_airbnb\", group=\"eda\", save_code=True)\n",
    "local_path = wandb.use_artifact(\"sample.csv:latest\").file()\n",
    "df = pd.read_csv(local_path)"
   ]
  },
  {
   "cell_type": "code",
   "execution_count": 5,
   "metadata": {},
   "outputs": [
    {
     "name": "stdout",
     "output_type": "stream",
     "text": [
      "Requirement already satisfied: wandb==0.10.31 in /home/workspace/env/lib/python3.7/site-packages (0.10.31)\n",
      "Requirement already satisfied: Click>=7.0 in /home/workspace/env/lib/python3.7/site-packages (from wandb==0.10.31) (7.1.2)\n",
      "Requirement already satisfied: GitPython>=1.0.0 in /home/workspace/env/lib/python3.7/site-packages (from wandb==0.10.31) (3.1.31)\n",
      "Requirement already satisfied: python-dateutil>=2.6.1 in /home/workspace/env/lib/python3.7/site-packages (from wandb==0.10.31) (2.8.1)\n",
      "Requirement already satisfied: requests<3,>=2.0.0 in /home/workspace/env/lib/python3.7/site-packages (from wandb==0.10.31) (2.30.0)\n",
      "Requirement already satisfied: promise<3,>=2.0 in /home/workspace/env/lib/python3.7/site-packages (from wandb==0.10.31) (2.3)\n",
      "Requirement already satisfied: shortuuid>=0.5.0 in /home/workspace/env/lib/python3.7/site-packages (from wandb==0.10.31) (1.0.11)\n",
      "Requirement already satisfied: six>=1.13.0 in /home/workspace/env/lib/python3.7/site-packages (from wandb==0.10.31) (1.15.0)\n",
      "Requirement already satisfied: psutil>=5.0.0 in /home/workspace/env/lib/python3.7/site-packages (from wandb==0.10.31) (5.9.5)\n",
      "Requirement already satisfied: sentry-sdk>=0.4.0 in /home/workspace/env/lib/python3.7/site-packages (from wandb==0.10.31) (1.22.2)\n",
      "Requirement already satisfied: subprocess32>=3.5.3 in /home/workspace/env/lib/python3.7/site-packages (from wandb==0.10.31) (3.5.4)\n",
      "Requirement already satisfied: docker-pycreds>=0.4.0 in /home/workspace/env/lib/python3.7/site-packages (from wandb==0.10.31) (0.4.0)\n",
      "Requirement already satisfied: configparser>=3.8.1 in /home/workspace/env/lib/python3.7/site-packages (from wandb==0.10.31) (5.3.0)\n",
      "Requirement already satisfied: protobuf>=3.12.0 in /home/workspace/env/lib/python3.7/site-packages (from wandb==0.10.31) (3.20.1)\n",
      "Requirement already satisfied: PyYAML in /home/workspace/env/lib/python3.7/site-packages (from wandb==0.10.31) (6.0)\n",
      "Requirement already satisfied: pathtools in /home/workspace/env/lib/python3.7/site-packages (from wandb==0.10.31) (0.1.2)\n",
      "Requirement already satisfied: gitdb<5,>=4.0.1 in /home/workspace/env/lib/python3.7/site-packages (from GitPython>=1.0.0->wandb==0.10.31) (4.0.10)\n",
      "Requirement already satisfied: typing-extensions>=3.7.4.3 in /home/workspace/env/lib/python3.7/site-packages (from GitPython>=1.0.0->wandb==0.10.31) (4.5.0)\n",
      "Requirement already satisfied: charset-normalizer<4,>=2 in /home/workspace/env/lib/python3.7/site-packages (from requests<3,>=2.0.0->wandb==0.10.31) (3.1.0)\n",
      "Requirement already satisfied: idna<4,>=2.5 in /home/workspace/env/lib/python3.7/site-packages (from requests<3,>=2.0.0->wandb==0.10.31) (3.4)\n",
      "Requirement already satisfied: urllib3<3,>=1.21.1 in /home/workspace/env/lib/python3.7/site-packages (from requests<3,>=2.0.0->wandb==0.10.31) (1.26.15)\n",
      "Requirement already satisfied: certifi>=2017.4.17 in /home/workspace/env/lib/python3.7/site-packages (from requests<3,>=2.0.0->wandb==0.10.31) (2022.12.7)\n",
      "Requirement already satisfied: smmap<6,>=3.0.1 in /home/workspace/env/lib/python3.7/site-packages (from gitdb<5,>=4.0.1->GitPython>=1.0.0->wandb==0.10.31) (5.0.0)\n"
     ]
    }
   ],
   "source": [
    "!pip install wandb==0.10.31"
   ]
  },
  {
   "cell_type": "code",
   "execution_count": null,
   "metadata": {},
   "outputs": [],
   "source": []
  },
  {
   "cell_type": "code",
   "execution_count": null,
   "metadata": {},
   "outputs": [],
   "source": []
  }
 ],
 "metadata": {
  "kernelspec": {
   "display_name": "Python 3",
   "language": "python",
   "name": "python3"
  },
  "language_info": {
   "codemirror_mode": {
    "name": "ipython",
    "version": 3
   },
   "file_extension": ".py",
   "mimetype": "text/x-python",
   "name": "python",
   "nbconvert_exporter": "python",
   "pygments_lexer": "ipython3",
   "version": "3.7.6"
  }
 },
 "nbformat": 4,
 "nbformat_minor": 4
}
